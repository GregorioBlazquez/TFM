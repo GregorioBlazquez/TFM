{
 "cells": [
  {
   "cell_type": "code",
   "execution_count": 45,
   "id": "ad7b3cba",
   "metadata": {},
   "outputs": [],
   "source": [
    "# Import required libraries\n",
    "import pandas as pd\n",
    "import matplotlib.pyplot as pltÇ\n",
    "import seaborn as sns"
   ]
  },
  {
   "cell_type": "code",
   "execution_count": 46,
   "id": "9b4eaa51",
   "metadata": {},
   "outputs": [
    {
     "data": {
      "text/html": [
       "<div>\n",
       "<style scoped>\n",
       "    .dataframe tbody tr th:only-of-type {\n",
       "        vertical-align: middle;\n",
       "    }\n",
       "\n",
       "    .dataframe tbody tr th {\n",
       "        vertical-align: top;\n",
       "    }\n",
       "\n",
       "    .dataframe thead th {\n",
       "        text-align: right;\n",
       "    }\n",
       "</style>\n",
       "<table border=\"1\" class=\"dataframe\">\n",
       "  <thead>\n",
       "    <tr style=\"text-align: right;\">\n",
       "      <th></th>\n",
       "      <th>Tipo de dato</th>\n",
       "      <th>Comunidades autónomas</th>\n",
       "      <th>Periodo</th>\n",
       "      <th>Total</th>\n",
       "    </tr>\n",
       "  </thead>\n",
       "  <tbody>\n",
       "    <tr>\n",
       "      <th>count</th>\n",
       "      <td>464</td>\n",
       "      <td>464</td>\n",
       "      <td>464</td>\n",
       "      <td>464</td>\n",
       "    </tr>\n",
       "    <tr>\n",
       "      <th>unique</th>\n",
       "      <td>1</td>\n",
       "      <td>8</td>\n",
       "      <td>58</td>\n",
       "      <td>464</td>\n",
       "    </tr>\n",
       "    <tr>\n",
       "      <th>top</th>\n",
       "      <td>Dato base</td>\n",
       "      <td>Total</td>\n",
       "      <td>2025M06</td>\n",
       "      <td>9.476.248</td>\n",
       "    </tr>\n",
       "    <tr>\n",
       "      <th>freq</th>\n",
       "      <td>464</td>\n",
       "      <td>58</td>\n",
       "      <td>8</td>\n",
       "      <td>1</td>\n",
       "    </tr>\n",
       "  </tbody>\n",
       "</table>\n",
       "</div>"
      ],
      "text/plain": [
       "       Tipo de dato Comunidades autónomas  Periodo      Total\n",
       "count           464                   464      464        464\n",
       "unique            1                     8       58        464\n",
       "top       Dato base                 Total  2025M06  9.476.248\n",
       "freq            464                    58        8          1"
      ]
     },
     "execution_count": 46,
     "metadata": {},
     "output_type": "execute_result"
    }
   ],
   "source": [
    "# Load the CSV\n",
    "df = pd.read_csv('../data/raw/FRONTUR/num_tourists_CCAA.csv', sep=';', encoding='latin1')\n",
    "df.describe(include='all')"
   ]
  },
  {
   "cell_type": "code",
   "execution_count": 47,
   "id": "2a95df04",
   "metadata": {},
   "outputs": [
    {
     "data": {
      "text/html": [
       "<div>\n",
       "<style scoped>\n",
       "    .dataframe tbody tr th:only-of-type {\n",
       "        vertical-align: middle;\n",
       "    }\n",
       "\n",
       "    .dataframe tbody tr th {\n",
       "        vertical-align: top;\n",
       "    }\n",
       "\n",
       "    .dataframe thead th {\n",
       "        text-align: right;\n",
       "    }\n",
       "</style>\n",
       "<table border=\"1\" class=\"dataframe\">\n",
       "  <thead>\n",
       "    <tr style=\"text-align: right;\">\n",
       "      <th></th>\n",
       "      <th>Comunidades autónomas</th>\n",
       "      <th>Periodo</th>\n",
       "      <th>Total</th>\n",
       "    </tr>\n",
       "  </thead>\n",
       "  <tbody>\n",
       "    <tr>\n",
       "      <th>0</th>\n",
       "      <td>Total</td>\n",
       "      <td>2025-06-01</td>\n",
       "      <td>9476248.0</td>\n",
       "    </tr>\n",
       "    <tr>\n",
       "      <th>1</th>\n",
       "      <td>Total</td>\n",
       "      <td>2025-05-01</td>\n",
       "      <td>9395612.0</td>\n",
       "    </tr>\n",
       "    <tr>\n",
       "      <th>2</th>\n",
       "      <td>Total</td>\n",
       "      <td>2025-04-01</td>\n",
       "      <td>8568142.0</td>\n",
       "    </tr>\n",
       "    <tr>\n",
       "      <th>3</th>\n",
       "      <td>Total</td>\n",
       "      <td>2025-03-01</td>\n",
       "      <td>6593604.0</td>\n",
       "    </tr>\n",
       "    <tr>\n",
       "      <th>4</th>\n",
       "      <td>Total</td>\n",
       "      <td>2025-02-01</td>\n",
       "      <td>5397279.0</td>\n",
       "    </tr>\n",
       "    <tr>\n",
       "      <th>...</th>\n",
       "      <td>...</td>\n",
       "      <td>...</td>\n",
       "      <td>...</td>\n",
       "    </tr>\n",
       "    <tr>\n",
       "      <th>459</th>\n",
       "      <td>Otras Comunidades Autónomas</td>\n",
       "      <td>2021-01-01</td>\n",
       "      <td>105428.0</td>\n",
       "    </tr>\n",
       "    <tr>\n",
       "      <th>460</th>\n",
       "      <td>Otras Comunidades Autónomas</td>\n",
       "      <td>2020-12-01</td>\n",
       "      <td>141951.0</td>\n",
       "    </tr>\n",
       "    <tr>\n",
       "      <th>461</th>\n",
       "      <td>Otras Comunidades Autónomas</td>\n",
       "      <td>2020-11-01</td>\n",
       "      <td>68811.0</td>\n",
       "    </tr>\n",
       "    <tr>\n",
       "      <th>462</th>\n",
       "      <td>Otras Comunidades Autónomas</td>\n",
       "      <td>2020-10-01</td>\n",
       "      <td>208085.0</td>\n",
       "    </tr>\n",
       "    <tr>\n",
       "      <th>463</th>\n",
       "      <td>Otras Comunidades Autónomas</td>\n",
       "      <td>2020-09-01</td>\n",
       "      <td>239540.0</td>\n",
       "    </tr>\n",
       "  </tbody>\n",
       "</table>\n",
       "<p>464 rows × 3 columns</p>\n",
       "</div>"
      ],
      "text/plain": [
       "           Comunidades autónomas    Periodo      Total\n",
       "0                          Total 2025-06-01  9476248.0\n",
       "1                          Total 2025-05-01  9395612.0\n",
       "2                          Total 2025-04-01  8568142.0\n",
       "3                          Total 2025-03-01  6593604.0\n",
       "4                          Total 2025-02-01  5397279.0\n",
       "..                           ...        ...        ...\n",
       "459  Otras Comunidades Autónomas 2021-01-01   105428.0\n",
       "460  Otras Comunidades Autónomas 2020-12-01   141951.0\n",
       "461  Otras Comunidades Autónomas 2020-11-01    68811.0\n",
       "462  Otras Comunidades Autónomas 2020-10-01   208085.0\n",
       "463  Otras Comunidades Autónomas 2020-09-01   239540.0\n",
       "\n",
       "[464 rows x 3 columns]"
      ]
     },
     "execution_count": 47,
     "metadata": {},
     "output_type": "execute_result"
    }
   ],
   "source": [
    "# Basic cleaning\n",
    "df = df.drop(columns=['Tipo de dato'])\n",
    "\n",
    "# Convert the 'Periodo' column to datetime type\n",
    "df['Periodo'] = pd.to_datetime(df['Periodo'], format='%YM%m')\n",
    "\n",
    "# Convert the 'Total' column to numeric type\n",
    "df['Total'] = df['Total'].str.replace('.', '').astype(float)\n",
    "\n",
    "df"
   ]
  },
  {
   "cell_type": "code",
   "execution_count": 48,
   "id": "e95926d5",
   "metadata": {},
   "outputs": [
    {
     "data": {
      "text/html": [
       "<div>\n",
       "<style scoped>\n",
       "    .dataframe tbody tr th:only-of-type {\n",
       "        vertical-align: middle;\n",
       "    }\n",
       "\n",
       "    .dataframe tbody tr th {\n",
       "        vertical-align: top;\n",
       "    }\n",
       "\n",
       "    .dataframe thead th {\n",
       "        text-align: right;\n",
       "    }\n",
       "</style>\n",
       "<table border=\"1\" class=\"dataframe\">\n",
       "  <thead>\n",
       "    <tr style=\"text-align: right;\">\n",
       "      <th></th>\n",
       "      <th>Total</th>\n",
       "    </tr>\n",
       "    <tr>\n",
       "      <th>Periodo</th>\n",
       "      <th></th>\n",
       "    </tr>\n",
       "  </thead>\n",
       "  <tbody>\n",
       "    <tr>\n",
       "      <th>2025-06-01</th>\n",
       "      <td>9476248.0</td>\n",
       "    </tr>\n",
       "    <tr>\n",
       "      <th>2025-05-01</th>\n",
       "      <td>9395612.0</td>\n",
       "    </tr>\n",
       "    <tr>\n",
       "      <th>2025-04-01</th>\n",
       "      <td>8568142.0</td>\n",
       "    </tr>\n",
       "    <tr>\n",
       "      <th>2025-03-01</th>\n",
       "      <td>6593604.0</td>\n",
       "    </tr>\n",
       "    <tr>\n",
       "      <th>2025-02-01</th>\n",
       "      <td>5397279.0</td>\n",
       "    </tr>\n",
       "  </tbody>\n",
       "</table>\n",
       "</div>"
      ],
      "text/plain": [
       "                Total\n",
       "Periodo              \n",
       "2025-06-01  9476248.0\n",
       "2025-05-01  9395612.0\n",
       "2025-04-01  8568142.0\n",
       "2025-03-01  6593604.0\n",
       "2025-02-01  5397279.0"
      ]
     },
     "execution_count": 48,
     "metadata": {},
     "output_type": "execute_result"
    }
   ],
   "source": [
    "df_total = df[df['Comunidades autónomas'] == 'Total']\n",
    "df_total = df_total.set_index(\"Periodo\").drop(columns=['Comunidades autónomas'])\n",
    "\n",
    "df_total.head()"
   ]
  },
  {
   "cell_type": "code",
   "execution_count": 49,
   "id": "6036c6c5",
   "metadata": {},
   "outputs": [
    {
     "data": {
      "image/png": "[encoded data removed]",
      "text/plain": [
       "<Figure size 1200x600 with 1 Axes>"
      ]
     },
     "metadata": {},
     "output_type": "display_data"
    }
   ],
   "source": [
    "# Data visualization\n",
    "plt.figure(figsize=(12, 6))\n",
    "sns.lineplot(data=df_total, x='Periodo', y='Total')\n",
    "plt.title('Number of Tourists in Spain (Total)')\n",
    "plt.xlabel('Date')\n",
    "plt.ylabel('Number of Tourists')\n",
    "plt.show()"
   ]
  },
  {
   "cell_type": "code",
   "execution_count": 50,
   "id": "143bd5e1",
   "metadata": {},
   "outputs": [],
   "source": [
    "# Sort the DataFrame by date\n",
    "df_total = df_total.sort_index()\n",
    "\n",
    "# Save the cleaned DataFrame\n",
    "df_total.to_csv('../data/processed/num_tourists_total.csv', index=True, sep=';')"
   ]
  },
  {
   "cell_type": "code",
   "execution_count": 51,
   "id": "2e6d0a31",
   "metadata": {},
   "outputs": [],
   "source": [
    "# (This cell is intentionally left blank for future analysis)"
   ]
  }
 ],
 "metadata": {
  "kernelspec": {
   "display_name": "TFM_venv (3.11.13)",
   "language": "python",
   "name": "python3"
  },
  "language_info": {
   "codemirror_mode": {
    "name": "ipython",
    "version": 3
   },
   "file_extension": ".py",
   "mimetype": "text/x-python",
   "name": "python",
   "nbconvert_exporter": "python",
   "pygments_lexer": "ipython3",
   "version": "3.11.13"
  }
 },
 "nbformat": 4,
 "nbformat_minor": 5
}
